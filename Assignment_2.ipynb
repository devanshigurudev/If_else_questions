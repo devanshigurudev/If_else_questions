{
  "nbformat": 4,
  "nbformat_minor": 0,
  "metadata": {
    "colab": {
      "provenance": []
    },
    "kernelspec": {
      "name": "python3",
      "display_name": "Python 3"
    },
    "language_info": {
      "name": "python"
    }
  },
  "cells": [
    {
      "cell_type": "markdown",
      "source": [
        "### **Exercise 1: Number Comparison**"
      ],
      "metadata": {
        "id": "ocByCpaENZmg"
      }
    },
    {
      "cell_type": "markdown",
      "source": [
        "Write a program that compares two numbers entered by the user and prints which one is greater."
      ],
      "metadata": {
        "id": "gRfCGRK6NcL8"
      }
    },
    {
      "cell_type": "code",
      "execution_count": null,
      "metadata": {
        "colab": {
          "base_uri": "https://localhost:8080/"
        },
        "id": "87YtRiKmNLhO",
        "outputId": "aa820552-839e-4dee-96ae-dd2ee7c01c27"
      },
      "outputs": [
        {
          "output_type": "stream",
          "name": "stdout",
          "text": [
            "Enter the first number: 4\n",
            "Enter the second number: 5\n",
            "5.0 is greater than 4.0\n"
          ]
        }
      ],
      "source": [
        "num1 = float(input(\"Enter the first number: \"))\n",
        "num2 = float(input(\"Enter the second number: \"))\n",
        "\n",
        "if num1 > num2:\n",
        "    print(f\"{num1} is greater than {num2}\")\n",
        "elif num1 < num2:\n",
        "    print(f\"{num2} is greater than {num1}\")\n",
        "else:\n",
        "    print(\"Both numbers are equal\")\n"
      ]
    },
    {
      "cell_type": "markdown",
      "source": [
        "### **Exercise 2: Even or Odd Number**"
      ],
      "metadata": {
        "id": "A9twS96oN3fA"
      }
    },
    {
      "cell_type": "markdown",
      "source": [
        "Write a program that takes a number as input and prints whether it's even or odd."
      ],
      "metadata": {
        "id": "E3Yu8YxFN8O2"
      }
    },
    {
      "cell_type": "code",
      "source": [
        "number = int(input(\"Enter a number: \"))\n",
        "\n",
        "if number % 2 == 0:\n",
        "    print(f\"{number} is even.\")\n",
        "\n",
        "else:\n",
        "    print(f\"{number} is odd.\")\n"
      ],
      "metadata": {
        "colab": {
          "base_uri": "https://localhost:8080/"
        },
        "id": "flw333jpOATC",
        "outputId": "7ae4349e-a87a-462b-dc46-353fe438e84c"
      },
      "execution_count": null,
      "outputs": [
        {
          "output_type": "stream",
          "name": "stdout",
          "text": [
            "Enter a number: 4\n",
            "4 is even.\n"
          ]
        }
      ]
    },
    {
      "cell_type": "markdown",
      "source": [
        "### **Exercise 3: Positive or Negative Number**"
      ],
      "metadata": {
        "id": "lSUoJAxbObYU"
      }
    },
    {
      "cell_type": "markdown",
      "source": [
        "Write a program that takes a number as input and prints whether it's positive, negative, or zero."
      ],
      "metadata": {
        "id": "Z2beo89Kj6gG"
      }
    },
    {
      "cell_type": "code",
      "source": [
        "number = float(input(\"Enter a number: \"))\n",
        "\n",
        "if number > 0:\n",
        "    print(f\"{number} is positive.\")\n",
        "elif number < 0:\n",
        "    print(f\"{number} is negative.\")\n",
        "else:\n",
        "    print(\"The number is zero.\")"
      ],
      "metadata": {
        "colab": {
          "base_uri": "https://localhost:8080/"
        },
        "id": "zwo4LfY4j_D7",
        "outputId": "3182beb5-c83a-4b2e-a319-4f6a8f358ade"
      },
      "execution_count": null,
      "outputs": [
        {
          "output_type": "stream",
          "name": "stdout",
          "text": [
            "Enter a number: -6\n",
            "-6.0 is negative.\n"
          ]
        }
      ]
    },
    {
      "cell_type": "markdown",
      "source": [
        "### **Exercise 4: Password Checker**"
      ],
      "metadata": {
        "id": "capSv6emkVyX"
      }
    },
    {
      "cell_type": "markdown",
      "source": [
        "Write a program that asks the user to enter a password. If the password is \"python123\", print \"Access granted.\" Otherwise, print \"Access denied.\""
      ],
      "metadata": {
        "id": "cE1QzbsvkcMJ"
      }
    },
    {
      "cell_type": "code",
      "source": [
        "password = input(\"Enter the password: \")\n",
        "\n",
        "if password == \"python123\":\n",
        "    print(\"Access granted.\")\n",
        "else:\n",
        "    print(\"Access denied.\")"
      ],
      "metadata": {
        "colab": {
          "base_uri": "https://localhost:8080/"
        },
        "id": "Lx-gRyagklwn",
        "outputId": "895cdd71-04bc-4630-9dbc-ea4360c9ce4e"
      },
      "execution_count": null,
      "outputs": [
        {
          "output_type": "stream",
          "name": "stdout",
          "text": [
            "Enter the password: python123\n",
            "Access granted.\n"
          ]
        }
      ]
    },
    {
      "cell_type": "markdown",
      "source": [
        "### **Exercise 5: Age Checker**"
      ],
      "metadata": {
        "id": "dTtenkBslHLK"
      }
    },
    {
      "cell_type": "markdown",
      "source": [
        "Write a program that asks the user to enter their age. If the age is greater than or equal to 18, print \"You are an adult.\" Otherwise, print \"You are not an adult.\""
      ],
      "metadata": {
        "id": "ymMs_tSJlMTX"
      }
    },
    {
      "cell_type": "code",
      "source": [
        "age = int(input(\"Enter your age: \"))\n",
        "\n",
        "if age >= 18:\n",
        "    print(\"You are an adult.\")\n",
        "else:\n",
        "    print(\"You are not an adult.\")"
      ],
      "metadata": {
        "colab": {
          "base_uri": "https://localhost:8080/"
        },
        "id": "G7wuyKlGlQYX",
        "outputId": "0bc35c3f-ce1b-4fe5-ba91-e7353f82d782"
      },
      "execution_count": null,
      "outputs": [
        {
          "output_type": "stream",
          "name": "stdout",
          "text": [
            "Enter your age: 20\n",
            "You are an adult.\n"
          ]
        }
      ]
    },
    {
      "cell_type": "markdown",
      "source": [
        "### **Exercise 6: Voting Eligibility**"
      ],
      "metadata": {
        "id": "rtgjGOSTlpK2"
      }
    },
    {
      "cell_type": "markdown",
      "source": [
        "Write a program that asks the user for their age. If they are 18 or older, print \"You are eligible to vote.\" Otherwise, print \"You are not eligible to vote.\""
      ],
      "metadata": {
        "id": "QbToPSTqlq_K"
      }
    },
    {
      "cell_type": "code",
      "source": [
        "age = int(input(\"Enter your age: \"))\n",
        "\n",
        "if age >= 18:\n",
        "    print(\"You are eligible to vote.\")\n",
        "else:\n",
        "    print(\"You are not eligible to vote.\")"
      ],
      "metadata": {
        "colab": {
          "base_uri": "https://localhost:8080/"
        },
        "id": "oxgDsB4nlv6G",
        "outputId": "94599ed5-30ce-4eb0-97bd-5a723aabf295"
      },
      "execution_count": null,
      "outputs": [
        {
          "output_type": "stream",
          "name": "stdout",
          "text": [
            "Enter your age: 15\n",
            "You are not eligible to vote.\n"
          ]
        }
      ]
    },
    {
      "cell_type": "markdown",
      "source": [
        "### **Exercise 7: Temperature Conversion**"
      ],
      "metadata": {
        "id": "8G2B4wVhmHaj"
      }
    },
    {
      "cell_type": "markdown",
      "source": [
        "Write a program that asks the user for a temperature in Celsius. If the temperature is above 30 degrees Celsius, print \"It's a hot day.\" Otherwise, print \"It's not a hot day.\""
      ],
      "metadata": {
        "id": "lcjl7dX1mLpI"
      }
    },
    {
      "cell_type": "code",
      "source": [
        "temperature = float(input(\"Enter the temperature in Celsius: \"))\n",
        "\n",
        "if temperature > 30:\n",
        "    print(\"It's a hot day.\")\n",
        "else:\n",
        "    print(\"It's not a hot day.\")"
      ],
      "metadata": {
        "colab": {
          "base_uri": "https://localhost:8080/"
        },
        "id": "iH6V23XCmPGp",
        "outputId": "f075c810-ac6a-492b-f562-f742433cc23d"
      },
      "execution_count": null,
      "outputs": [
        {
          "output_type": "stream",
          "name": "stdout",
          "text": [
            "Enter the temperature in Celsius: 35\n",
            "It's a hot day.\n"
          ]
        }
      ]
    },
    {
      "cell_type": "markdown",
      "source": [
        "### **Exercise 8: Positive or Negative Number (Improved)**"
      ],
      "metadata": {
        "id": "PYoMWGZrmpqJ"
      }
    },
    {
      "cell_type": "markdown",
      "source": [
        "Write a program that takes a number as input and prints whether it's positive, negative, or zero. Use only one `if` statement."
      ],
      "metadata": {
        "id": "inOIfH8ymuMs"
      }
    },
    {
      "cell_type": "code",
      "source": [
        "num = float(input(\"Enter a number: \"))\n",
        "\n",
        "# Check if the number is positive, negative, or zero using only one if statement\n",
        "if num > 0:\n",
        "    print(f\"{number} is positive.\")\n",
        "if num < 0:\n",
        "    print(f\"{number} is negative.\")\n",
        "if num == 0:\n",
        "    print(\"The number is zero.\")"
      ],
      "metadata": {
        "colab": {
          "base_uri": "https://localhost:8080/"
        },
        "id": "IbQQLAOUreh4",
        "outputId": "808ec442-0f43-4309-f79a-9d062df84b0b"
      },
      "execution_count": null,
      "outputs": [
        {
          "output_type": "stream",
          "name": "stdout",
          "text": [
            "Enter a number: 6\n",
            "6 is positive.\n"
          ]
        }
      ]
    },
    {
      "cell_type": "markdown",
      "source": [
        "### **Exercise 9: Grade Classification (Improved)**"
      ],
      "metadata": {
        "id": "uJ0hYy6YnpgR"
      }
    },
    {
      "cell_type": "markdown",
      "source": [
        "Write a program that takes a student's score as input and prints their grade based on the following criteria:\n",
        "- Score >= 90: \"A\"\n",
        "- Score >= 80: \"B\"\n",
        "- Score >= 70: \"C\"\n",
        "- Score >= 60: \"D\"\n",
        "- Otherwise: \"F\""
      ],
      "metadata": {
        "id": "ZNPZ_guInuC3"
      }
    },
    {
      "cell_type": "code",
      "source": [
        "score = float(input(\"Enter the student's score: \"))\n",
        "\n",
        "if score >= 90:\n",
        "    grade = \"A\"\n",
        "elif score >= 80:\n",
        "    grade = \"B\"\n",
        "elif score >= 70:\n",
        "    grade = \"C\"\n",
        "elif score >= 60:\n",
        "    grade = \"D\"\n",
        "else:\n",
        "    grade = \"F\"\n",
        "\n",
        "print(f\"The student's grade is: {grade}\")"
      ],
      "metadata": {
        "colab": {
          "base_uri": "https://localhost:8080/"
        },
        "id": "V_Xb72ganxl_",
        "outputId": "fcb968b1-8b41-46f9-ac89-f5d7dd532056"
      },
      "execution_count": null,
      "outputs": [
        {
          "output_type": "stream",
          "name": "stdout",
          "text": [
            "Enter the student's score: 75\n",
            "The student's grade is: C\n"
          ]
        }
      ]
    },
    {
      "cell_type": "markdown",
      "source": [
        "### **Exercise 10: Number Comparison (Improved)**"
      ],
      "metadata": {
        "id": "3XiYXxmpoUsc"
      }
    },
    {
      "cell_type": "markdown",
      "source": [
        "Write a program that compares two numbers entered by the user and prints which one is greater. Use only one `if` statement."
      ],
      "metadata": {
        "id": "6FwxrRqFoZt6"
      }
    },
    {
      "cell_type": "code",
      "source": [
        "num1 = float(input(\"Enter the first number: \"))\n",
        "num2 = float(input(\"Enter the second number: \"))\n",
        "\n",
        "if num1 > num2:\n",
        "    print(f\"{num1} is greater than {num2}\")\n",
        "if num2 > num1:\n",
        "    print(f\"{num2} is greater than {num1}\")\n",
        "if num1 == num2:\n",
        "    print(\"Both numbers are equal\")"
      ],
      "metadata": {
        "colab": {
          "base_uri": "https://localhost:8080/"
        },
        "id": "A6Gva3QtrARg",
        "outputId": "bf945178-ed89-47b7-f67b-3249c14bf2fd"
      },
      "execution_count": null,
      "outputs": [
        {
          "output_type": "stream",
          "name": "stdout",
          "text": [
            "Enter the first number: 7\n",
            "Enter the second number: 6\n",
            "7.0 is greater than 6.0\n"
          ]
        }
      ]
    },
    {
      "cell_type": "markdown",
      "source": [
        "### **Exercise 11: Odd or Even Number (Improved)**"
      ],
      "metadata": {
        "id": "fRRMT4-ipUdG"
      }
    },
    {
      "cell_type": "markdown",
      "source": [
        "Write a program that takes a number as input and prints whether it's odd or even. Use only one `if` statement."
      ],
      "metadata": {
        "id": "dJYN6ZKapcS0"
      }
    },
    {
      "cell_type": "code",
      "source": [
        "number = int(input(\"Enter a number: \"))\n",
        "\n",
        "if number % 2 == 0:\n",
        "    print(f\"{number} is even.\")\n",
        "if number % 2 != 0:\n",
        "    print(f\"{number} is odd.\")"
      ],
      "metadata": {
        "colab": {
          "base_uri": "https://localhost:8080/"
        },
        "id": "H_gUuQ7hqNwE",
        "outputId": "92c37f4d-7f8d-4040-f9f8-eb9aa82c10ab"
      },
      "execution_count": null,
      "outputs": [
        {
          "output_type": "stream",
          "name": "stdout",
          "text": [
            "Enter a number: 6\n",
            "6 is even.\n"
          ]
        }
      ]
    },
    {
      "cell_type": "markdown",
      "source": [
        "### **Exercise 12: Positive, Negative, or Zero (Improved)**"
      ],
      "metadata": {
        "id": "7VMPRitErpd1"
      }
    },
    {
      "cell_type": "markdown",
      "source": [
        "Write a program that takes a number as input and prints whether it's positive, negative, or zero. Use only one `if` statement."
      ],
      "metadata": {
        "id": "m7oc9fYRt1EE"
      }
    },
    {
      "cell_type": "code",
      "source": [
        "number = float(input(\"Enter a number: \"))\n",
        "\n",
        "if number > 0:\n",
        "    print(f\"{number} is positive.\")\n",
        "if number < 0:\n",
        "    print(f\"{number} is negative.\")\n",
        "if number == 0:\n",
        "    print(\"The number is zero.\")"
      ],
      "metadata": {
        "colab": {
          "base_uri": "https://localhost:8080/"
        },
        "id": "XUM2qd5St5Xf",
        "outputId": "c235cfa7-fd91-48ff-cae7-682292016b45"
      },
      "execution_count": null,
      "outputs": [
        {
          "output_type": "stream",
          "name": "stdout",
          "text": [
            "Enter a number: 6\n",
            "6.0 is positive.\n"
          ]
        }
      ]
    },
    {
      "cell_type": "markdown",
      "source": [
        "### **Exercise 13: Age Group Classification**"
      ],
      "metadata": {
        "id": "_RE6ux4SuGPU"
      }
    },
    {
      "cell_type": "markdown",
      "source": [
        "Write a program that asks the user to enter their age. If they are under 13, print \"Child.\" If they are between 13 and 19, print \"Teenager.\" Otherwise, print \"Adult.\""
      ],
      "metadata": {
        "id": "yjM98QOXuJ1W"
      }
    },
    {
      "cell_type": "code",
      "source": [
        "age = int(input(\"Enter your age: \"))\n",
        "\n",
        "if age < 13:\n",
        "    print(\"Child.\")\n",
        "elif 13 <= age <= 19:\n",
        "    print(\"Teenager.\")\n",
        "else:\n",
        "    print(\"Adult.\")"
      ],
      "metadata": {
        "colab": {
          "base_uri": "https://localhost:8080/"
        },
        "id": "aoI0JqNeuNKG",
        "outputId": "188d2a41-8265-461e-b962-6f4d4fb6c759"
      },
      "execution_count": null,
      "outputs": [
        {
          "output_type": "stream",
          "name": "stdout",
          "text": [
            "Enter your age: 15\n",
            "Teenager.\n"
          ]
        }
      ]
    },
    {
      "cell_type": "markdown",
      "source": [
        "### **Exercise 14: Password Strength Checker**"
      ],
      "metadata": {
        "id": "JKJjqPbqu5wT"
      }
    },
    {
      "cell_type": "markdown",
      "source": [
        "Write a program that asks the user to enter a password. If the password is less than 8 characters long, print \"Weak.\" If it's 8 or more characters long, print \"Strong.\""
      ],
      "metadata": {
        "id": "PS1UCR9Gu9gF"
      }
    },
    {
      "cell_type": "code",
      "source": [
        "password = input(\"Enter a password: \")\n",
        "\n",
        "if len(password) < 8:\n",
        "    print(\"Weak.\")\n",
        "else:\n",
        "    print(\"Strong.\")"
      ],
      "metadata": {
        "colab": {
          "base_uri": "https://localhost:8080/"
        },
        "id": "Kme8-8-yvBYj",
        "outputId": "a2cb948f-647e-47d5-9efb-c3f01430a3b2"
      },
      "execution_count": null,
      "outputs": [
        {
          "output_type": "stream",
          "name": "stdout",
          "text": [
            "Enter a password: 9\n",
            "Weak.\n"
          ]
        }
      ]
    },
    {
      "cell_type": "markdown",
      "source": [
        "### **Exercise 15: Age Verification**"
      ],
      "metadata": {
        "id": "yYcSqF64TZeu"
      }
    },
    {
      "cell_type": "markdown",
      "source": [
        "Write a program that asks the user for their age. If the age is 21 or older, print \"You are allowed to enter.\" Otherwise, print \"Access denied.\""
      ],
      "metadata": {
        "id": "wDA8kIA8TgNi"
      }
    },
    {
      "cell_type": "code",
      "source": [
        "age = int(input(\"Enter your age: \"))\n",
        "\n",
        "if age >= 21:\n",
        "    print(\"You are allowed to enter.\")\n",
        "else:\n",
        "    print(\"Access denied.\")\n"
      ],
      "metadata": {
        "colab": {
          "base_uri": "https://localhost:8080/"
        },
        "id": "8-Rcrp5MTkGR",
        "outputId": "26d32b05-d978-46a8-9d22-e4e4079709cd"
      },
      "execution_count": null,
      "outputs": [
        {
          "output_type": "stream",
          "name": "stdout",
          "text": [
            "Enter your age: 22\n",
            "You are allowed to enter.\n"
          ]
        }
      ]
    },
    {
      "cell_type": "markdown",
      "source": [
        "### **Exercise 16: Number Comparison (Improved)**"
      ],
      "metadata": {
        "id": "GEE1SEjcT7bo"
      }
    },
    {
      "cell_type": "markdown",
      "source": [
        "Write a program that takes two numbers as input and prints whether they are equal or not. Use only one `if` statement."
      ],
      "metadata": {
        "id": "DXDIYcX1T_5m"
      }
    },
    {
      "cell_type": "code",
      "source": [
        "num1 = float(input(\"Enter the first number: \"))\n",
        "num2 = float(input(\"Enter the second number: \"))\n",
        "\n",
        "if num1 == num2:\n",
        "    print(\"The numbers are equal.\")\n",
        "elif num1 != num2:\n",
        "    print(\"The numbers are not equal.\")"
      ],
      "metadata": {
        "colab": {
          "base_uri": "https://localhost:8080/"
        },
        "id": "DWIseRv0UEh7",
        "outputId": "61d32617-ff5b-4af1-fb24-ee90ce98c270"
      },
      "execution_count": null,
      "outputs": [
        {
          "output_type": "stream",
          "name": "stdout",
          "text": [
            "Enter the first number: 5\n",
            "Enter the second number: 5\n",
            "The numbers are equal.\n"
          ]
        }
      ]
    },
    {
      "cell_type": "markdown",
      "source": [
        "### **Exercise 17: Grading System**"
      ],
      "metadata": {
        "id": "6WnITLkDUf22"
      }
    },
    {
      "cell_type": "markdown",
      "source": [
        "Write a program that takes a student's score as input and prints their grade using the following grading scale:"
      ],
      "metadata": {
        "id": "XOYncIPfUo9n"
      }
    },
    {
      "cell_type": "code",
      "source": [
        "score = float(input(\"Enter the student's score: \"))\n",
        "\n",
        "if 90 <= score <= 100:\n",
        "    grade = \"A\"\n",
        "elif 80 <= score < 90:\n",
        "    grade = \"B\"\n",
        "elif 70 <= score < 80:\n",
        "    grade = \"C\"\n",
        "elif 60 <= score < 70:\n",
        "    grade = \"D\"\n",
        "else:\n",
        "    grade = \"F\"\n",
        "\n",
        "print(f\"The student's grade is: {grade}\")"
      ],
      "metadata": {
        "id": "pnGmmNaBUsxC",
        "colab": {
          "base_uri": "https://localhost:8080/"
        },
        "outputId": "c8ac420e-5f1d-47ab-e158-0e4ae0f1a05a"
      },
      "execution_count": null,
      "outputs": [
        {
          "output_type": "stream",
          "name": "stdout",
          "text": [
            "Enter the student's score: 80\n",
            "The student's grade is: B\n"
          ]
        }
      ]
    },
    {
      "cell_type": "markdown",
      "source": [
        "### **Exercise 18: Discount Calculator**"
      ],
      "metadata": {
        "id": "OX906K9lhZ5r"
      }
    },
    {
      "cell_type": "markdown",
      "source": [
        "Write a program that calculates and displays the final price of a product after applying a 10% discount. Ask the user for the original price."
      ],
      "metadata": {
        "id": "GNH5Mr1QhgxI"
      }
    },
    {
      "cell_type": "code",
      "source": [
        "original_price = float(input(\"Enter the original price of the product: $\"))\n",
        "\n",
        "discount_percentage = 10\n",
        "discount_amount = (discount_percentage / 100) * original_price\n",
        "final_price = original_price - discount_amount\n",
        "\n",
        "print(f\"Original Price: ${original_price:.2f}\")\n",
        "print(f\"Discount: {discount_percentage}%\")\n",
        "print(f\"Discount Amount: ${discount_amount:.2f}\")\n",
        "print(f\"Final Price: ${final_price:.2f}\")"
      ],
      "metadata": {
        "colab": {
          "base_uri": "https://localhost:8080/"
        },
        "id": "abQ4GGQYhlJB",
        "outputId": "625bdd18-e575-4d9b-ebae-7b62e0614e60"
      },
      "execution_count": null,
      "outputs": [
        {
          "output_type": "stream",
          "name": "stdout",
          "text": [
            "Enter the original price of the product: $250\n",
            "Original Price: $250.00\n",
            "Discount: 10%\n",
            "Discount Amount: $25.00\n",
            "Final Price: $225.00\n"
          ]
        }
      ]
    },
    {
      "cell_type": "markdown",
      "source": [
        "### **Exercise 19: BMI Calculator**"
      ],
      "metadata": {
        "id": "ukfyELfyiO8q"
      }
    },
    {
      "cell_type": "markdown",
      "source": [
        "Write a program that calculates and displays the Body Mass Index (BMI) of a person based on their weight (in kilograms) and height (in meters). Use the following formula: BMI = weight / (height^2). Ask the user for their weight and height."
      ],
      "metadata": {
        "id": "l_tZ-UWniYMS"
      }
    },
    {
      "cell_type": "code",
      "source": [
        "weight_kg = float(input(\"Enter your weight in kilograms: \"))\n",
        "height_m = float(input(\"Enter your height in meters: \"))\n",
        "\n",
        "bmi = weight_kg / (height_m ** 2)\n",
        "\n",
        "print(f\"Your Body Mass Index (BMI) is: {bmi:.2f}\")"
      ],
      "metadata": {
        "colab": {
          "base_uri": "https://localhost:8080/"
        },
        "id": "tqbNMVqzjIc_",
        "outputId": "29685cc2-5339-4194-b955-294e36ad9b0d"
      },
      "execution_count": null,
      "outputs": [
        {
          "output_type": "stream",
          "name": "stdout",
          "text": [
            "Enter your weight in kilograms: 52\n",
            "Enter your height in meters: 5.5\n",
            "Your Body Mass Index (BMI) is: 1.72\n"
          ]
        }
      ]
    },
    {
      "cell_type": "markdown",
      "source": [
        "### **Exercise 20: Password Verification (Improved)**"
      ],
      "metadata": {
        "id": "_sWLBshQjy8s"
      }
    },
    {
      "cell_type": "markdown",
      "source": [
        "Write a program that asks the user to enter a password. If the password is \"password123\", print \"Access granted.\" Otherwise, print \"Access denied.\""
      ],
      "metadata": {
        "id": "PuZScp3mj3v6"
      }
    },
    {
      "cell_type": "code",
      "source": [
        "user_password = input(\"Enter the password: \")\n",
        "\n",
        "expected_password = \"password123\"\n",
        "\n",
        "if user_password == expected_password:\n",
        "    print(\"Access granted.\")\n",
        "else:\n",
        "    print(\"Access denied.\")"
      ],
      "metadata": {
        "colab": {
          "base_uri": "https://localhost:8080/"
        },
        "id": "1NbQsbTfj7jU",
        "outputId": "de2a2a9a-3236-43d6-e9f4-428b2da3fc87"
      },
      "execution_count": null,
      "outputs": [
        {
          "output_type": "stream",
          "name": "stdout",
          "text": [
            "Enter the password: paasword123\n",
            "Access denied.\n"
          ]
        }
      ]
    },
    {
      "cell_type": "markdown",
      "source": [
        "### **Exercise 21: Ticket Price Calculator**"
      ],
      "metadata": {
        "id": "HfnCbeRWVVf1"
      }
    },
    {
      "cell_type": "markdown",
      "source": [
        "Write a program that calculates and displays the ticket price for a movie based on the user's age.\n",
        "If the user is 12 years old or younger, the ticket price is \\$5.\n",
        "If the user is between 13 and 18 years old (inclusive), the ticket price is $8. For adults (age 19 and above), the ticket price is \\$12."
      ],
      "metadata": {
        "id": "bzY9x_PPVbS1"
      }
    },
    {
      "cell_type": "code",
      "source": [
        "user_age = int(input(\"Enter your age: \"))\n",
        "\n",
        "if user_age <= 12:\n",
        "    ticket_price = 5\n",
        "elif 13 <= user_age <= 18:\n",
        "    ticket_price = 8\n",
        "else:\n",
        "    ticket_price = 12\n",
        "\n",
        "print(f\"The ticket price for a {user_age}-year-old is: ${ticket_price}\")"
      ],
      "metadata": {
        "colab": {
          "base_uri": "https://localhost:8080/"
        },
        "id": "R_p7KOQVVemW",
        "outputId": "8adea4ad-43cd-42a6-990b-65f8b36ece37"
      },
      "execution_count": 1,
      "outputs": [
        {
          "output_type": "stream",
          "name": "stdout",
          "text": [
            "Enter your age: 22\n",
            "The ticket price for a 22-year-old is: $12\n"
          ]
        }
      ]
    },
    {
      "cell_type": "markdown",
      "source": [
        "### **Exercise 22: Discount Coupon**"
      ],
      "metadata": {
        "id": "MvJv1BW7WgVu"
      }
    },
    {
      "cell_type": "markdown",
      "source": [
        "Write a program that asks the user to enter the total purchase amount. If the purchase amount is greater than or equal to $50, apply a 10% discount and display the final amount to be paid. Otherwise, display the original amount."
      ],
      "metadata": {
        "id": "xE87gb7jWkpf"
      }
    },
    {
      "cell_type": "code",
      "source": [
        "purchase_amount = float(input(\"Enter the total purchase amount: $\"))\n",
        "\n",
        "if purchase_amount >= 50:\n",
        "\n",
        "    discount_percentage = 10\n",
        "    discount_amount = (discount_percentage / 100) * purchase_amount\n",
        "    final_amount = purchase_amount - discount_amount\n",
        "\n",
        "    print(f\"Congratulations! You qualify for a {discount_percentage}% discount.\")\n",
        "    print(f\"Discounted Amount: ${final_amount:.2f}\")\n",
        "else:\n",
        "    print(\"Sorry, no discount applied.\")\n",
        "    print(f\"Original Amount: ${purchase_amount:.2f}\")"
      ],
      "metadata": {
        "colab": {
          "base_uri": "https://localhost:8080/"
        },
        "id": "EqHfzCD6WohZ",
        "outputId": "b760ae71-cc32-4ab2-f0dc-9115d84270fa"
      },
      "execution_count": 2,
      "outputs": [
        {
          "output_type": "stream",
          "name": "stdout",
          "text": [
            "Enter the total purchase amount: $20\n",
            "Sorry, no discount applied.\n",
            "Original Amount: $20.00\n"
          ]
        }
      ]
    },
    {
      "cell_type": "markdown",
      "source": [
        "### **Exercise 23: Traffic Light Simulator**"
      ],
      "metadata": {
        "id": "6fHb7dHSW7_J"
      }
    },
    {
      "cell_type": "markdown",
      "source": [
        "Write a program that simulates a traffic light. Ask the user to enter a color (either \"red,\" \"yellow,\" or \"green\"). If the color is \"red,\" print \"Stop.\" If the color is \"yellow,\" print \"Slow down.\" If the color is \"green,\" print \"Go.\""
      ],
      "metadata": {
        "id": "0gu6USqfXAFJ"
      }
    },
    {
      "cell_type": "code",
      "source": [
        "traffic_light_color = input(\"Enter the traffic light color (red, yellow, or green): \")\n",
        "\n",
        "if traffic_light_color == \"red\":\n",
        "    print(\"Stop.\")\n",
        "elif traffic_light_color == \"yellow\":\n",
        "    print(\"Slow down.\")\n",
        "elif traffic_light_color == \"green\":\n",
        "    print(\"Go.\")\n",
        "else:\n",
        "    print(\"Invalid color. Please enter 'red', 'yellow', or 'green'.\")"
      ],
      "metadata": {
        "colab": {
          "base_uri": "https://localhost:8080/"
        },
        "id": "DiwSrnJRXD-T",
        "outputId": "19079204-2ca4-4828-e021-d4603e1c6790"
      },
      "execution_count": 4,
      "outputs": [
        {
          "output_type": "stream",
          "name": "stdout",
          "text": [
            "Enter the traffic light color (red, yellow, or green): green\n",
            "Go.\n"
          ]
        }
      ]
    },
    {
      "cell_type": "markdown",
      "source": [
        "### **Exercise 24: Simple Calculator**"
      ],
      "metadata": {
        "id": "RiRxVd3xXerb"
      }
    },
    {
      "cell_type": "markdown",
      "source": [
        "Write a program that takes two numbers and an operator (+, -, *, /) as input and performs the corresponding operation on the numbers. Display the result. For example, if the user enters 5, *, and 3, the program should print \"5 * 3 = 15.\""
      ],
      "metadata": {
        "id": "qb9XI_HNXlFs"
      }
    },
    {
      "cell_type": "code",
      "source": [
        "num1 = float(input(\"Enter the first number: \"))\n",
        "operator = input(\"Enter the operator (+, -, *, /): \")\n",
        "num2 = float(input(\"Enter the second number: \"))\n",
        "\n",
        "result = None\n",
        "\n",
        "if operator == \"+\":\n",
        "    result = num1 + num2\n",
        "elif operator == \"-\":\n",
        "    result = num1 - num2\n",
        "elif operator == \"*\":\n",
        "    result = num1 * num2\n",
        "elif operator == \"/\":\n",
        "    # Check for division by zero\n",
        "    if num2 != 0:\n",
        "        result = num1 / num2\n",
        "    else:\n",
        "        print(\"Error: Division by zero is not allowed.\")\n",
        "        exit()\n",
        "\n",
        "if result is not None:\n",
        "    print(f\"{num1} {operator} {num2} = {result}\")"
      ],
      "metadata": {
        "colab": {
          "base_uri": "https://localhost:8080/"
        },
        "id": "oiia770-XoxH",
        "outputId": "654e4ded-7d59-4bed-ca19-21745faa8559"
      },
      "execution_count": 5,
      "outputs": [
        {
          "output_type": "stream",
          "name": "stdout",
          "text": [
            "Enter the first number: 5\n",
            "Enter the operator (+, -, *, /): +\n",
            "Enter the second number: 3\n",
            "5.0 + 3.0 = 8.0\n"
          ]
        }
      ]
    },
    {
      "cell_type": "markdown",
      "source": [
        "### **Exercise 25: Exam Result**"
      ],
      "metadata": {
        "id": "wKivYTkjYDfm"
      }
    },
    {
      "cell_type": "markdown",
      "source": [
        "Write a program that asks the user to enter their exam score as a percentage (0-100). Based on the score, print one of the following messages: \"Excellent\" (90-100), \"Good\" (80-89), \"Satisfactory\" (70-79), \"Needs Improvement\" (0-69).\n"
      ],
      "metadata": {
        "id": "HPNRNe9YYHlU"
      }
    },
    {
      "cell_type": "code",
      "source": [
        "exam_score = float(input(\"Enter your exam score as a percentage (0-100): \"))\n",
        "\n",
        "if 90 <= exam_score <= 100:\n",
        "    print(\"Excellent\")\n",
        "elif 80 <= exam_score <= 89:\n",
        "    print(\"Good\")\n",
        "elif 70 <= exam_score <= 79:\n",
        "    print(\"Satisfactory\")\n",
        "elif 0 <= exam_score <= 69:\n",
        "    print(\"Needs Improvement\")\n",
        "else:\n",
        "    print(\"Invalid score. Please enter a percentage between 0 and 100.\")"
      ],
      "metadata": {
        "colab": {
          "base_uri": "https://localhost:8080/"
        },
        "id": "tuUEoGV3YK-l",
        "outputId": "25d6f067-4c3c-4e71-d109-8c510bfc6c83"
      },
      "execution_count": 6,
      "outputs": [
        {
          "output_type": "stream",
          "name": "stdout",
          "text": [
            "Enter your exam score as a percentage (0-100): 75\n",
            "Satisfactory\n"
          ]
        }
      ]
    }
  ]
}